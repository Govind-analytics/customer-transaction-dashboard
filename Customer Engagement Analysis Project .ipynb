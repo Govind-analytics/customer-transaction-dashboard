{
 "cells": [
  {
   "cell_type": "code",
   "execution_count": 1,
   "id": "021e5231",
   "metadata": {},
   "outputs": [
    {
     "name": "stdout",
     "output_type": "stream",
     "text": [
      "<bound method NDFrame.head of        User_ID  Product_ID        Category  Price (Rs.)  Discount (%)  \\\n",
      "0     337c166f  f414122f-e          Sports        36.53            15   \n",
      "1     d38a19bf  fde50f9c-5        Clothing       232.79            20   \n",
      "2     d7f5f0b0  0d96fc90-3          Sports       317.02            25   \n",
      "3     395d4994  964fc44b-d            Toys       173.19            25   \n",
      "4     a83c145c  d70e2fc6-e          Beauty       244.80            20   \n",
      "...        ...         ...             ...          ...           ...   \n",
      "3655  67abda0a  28714133-6          Beauty       486.79             0   \n",
      "3656  34ebc1a0  08838c2c-9            Toys       212.87            15   \n",
      "3657  1defd3b1  c39a4f16-6  Home & Kitchen       389.76             0   \n",
      "3658  0611293d  b4f67f96-9     Electronics       447.66            30   \n",
      "3659  e73ad07c  a5d07442-d  Home & Kitchen       235.77            30   \n",
      "\n",
      "      Final_Price(Rs.)    Payment_Method Purchase_Date  \n",
      "0                31.05       Net Banking    12-11-2024  \n",
      "1               186.23       Net Banking    09-02-2024  \n",
      "2               237.76       Credit Card    01-09-2024  \n",
      "3               129.89               UPI    01-04-2024  \n",
      "4               195.84       Net Banking    27-09-2024  \n",
      "...                ...               ...           ...  \n",
      "3655            486.79               UPI    14-05-2024  \n",
      "3656            180.94  Cash on Delivery    19-11-2024  \n",
      "3657            389.76       Net Banking    07-08-2024  \n",
      "3658            313.36               UPI    21-05-2024  \n",
      "3659            165.04               UPI    14-04-2024  \n",
      "\n",
      "[3660 rows x 8 columns]>\n"
     ]
    }
   ],
   "source": [
    "import pandas as pd\n",
    "\n",
    "data = pd.read_csv(r\"C:\\Users\\SSSD\\Downloads\\ecommerce_dataset_updated.csv\")\n",
    "\n",
    "print(data.head)"
   ]
  },
  {
   "cell_type": "code",
   "execution_count": 2,
   "id": "3bc57dab",
   "metadata": {},
   "outputs": [
    {
     "name": "stdout",
     "output_type": "stream",
     "text": [
      "User_ID             0\n",
      "Product_ID          0\n",
      "Category            0\n",
      "Price (Rs.)         0\n",
      "Discount (%)        0\n",
      "Final_Price(Rs.)    0\n",
      "Payment_Method      0\n",
      "Purchase_Date       0\n",
      "dtype: int64\n"
     ]
    }
   ],
   "source": [
    "print(data.isnull().sum())"
   ]
  },
  {
   "cell_type": "code",
   "execution_count": 5,
   "id": "d1d29310",
   "metadata": {},
   "outputs": [],
   "source": [
    "data = data.drop_duplicates()"
   ]
  },
  {
   "cell_type": "code",
   "execution_count": 6,
   "id": "f072f5f6",
   "metadata": {},
   "outputs": [
    {
     "name": "stdout",
     "output_type": "stream",
     "text": [
      "<class 'pandas.core.frame.DataFrame'>\n",
      "Int64Index: 3660 entries, 0 to 3659\n",
      "Data columns (total 8 columns):\n",
      " #   Column            Non-Null Count  Dtype  \n",
      "---  ------            --------------  -----  \n",
      " 0   User_ID           3660 non-null   object \n",
      " 1   Product_ID        3660 non-null   object \n",
      " 2   Category          3660 non-null   object \n",
      " 3   Price (Rs.)       3660 non-null   float64\n",
      " 4   Discount (%)      3660 non-null   int64  \n",
      " 5   Final_Price(Rs.)  3660 non-null   float64\n",
      " 6   Payment_Method    3660 non-null   object \n",
      " 7   Purchase_Date     3660 non-null   object \n",
      "dtypes: float64(2), int64(1), object(5)\n",
      "memory usage: 185.9+ KB\n"
     ]
    }
   ],
   "source": [
    "data.info()"
   ]
  },
  {
   "cell_type": "code",
   "execution_count": 7,
   "id": "591834d4",
   "metadata": {},
   "outputs": [],
   "source": [
    "data['Purchase_Data'] = pd.to_datetime(data['Purchase_Date'])"
   ]
  },
  {
   "cell_type": "code",
   "execution_count": 8,
   "id": "c1772b48",
   "metadata": {},
   "outputs": [
    {
     "name": "stdout",
     "output_type": "stream",
     "text": [
      "<class 'pandas.core.frame.DataFrame'>\n",
      "Int64Index: 3660 entries, 0 to 3659\n",
      "Data columns (total 9 columns):\n",
      " #   Column            Non-Null Count  Dtype         \n",
      "---  ------            --------------  -----         \n",
      " 0   User_ID           3660 non-null   object        \n",
      " 1   Product_ID        3660 non-null   object        \n",
      " 2   Category          3660 non-null   object        \n",
      " 3   Price (Rs.)       3660 non-null   float64       \n",
      " 4   Discount (%)      3660 non-null   int64         \n",
      " 5   Final_Price(Rs.)  3660 non-null   float64       \n",
      " 6   Payment_Method    3660 non-null   object        \n",
      " 7   Purchase_Date     3660 non-null   object        \n",
      " 8   Purchase_Data     3660 non-null   datetime64[ns]\n",
      "dtypes: datetime64[ns](1), float64(2), int64(1), object(5)\n",
      "memory usage: 214.5+ KB\n",
      "None\n"
     ]
    }
   ],
   "source": [
    "print(data.info())"
   ]
  },
  {
   "cell_type": "code",
   "execution_count": 9,
   "id": "245d9134",
   "metadata": {},
   "outputs": [
    {
     "name": "stdout",
     "output_type": "stream",
     "text": [
      "number of dupliates: 0\n"
     ]
    }
   ],
   "source": [
    "duplicates = data[data.duplicated()]\n",
    "print(f\"number of dupliates: {len(duplicates)}\")"
   ]
  },
  {
   "cell_type": "markdown",
   "id": "68a97303",
   "metadata": {},
   "source": [
    "# Calculate the total revenue by summing the Final_Price(Rs.) per Category."
   ]
  },
  {
   "cell_type": "code",
   "execution_count": 11,
   "id": "c5928cd7",
   "metadata": {},
   "outputs": [
    {
     "name": "stdout",
     "output_type": "stream",
     "text": [
      "Category\n",
      "Clothing          115314.84\n",
      "Books             111149.35\n",
      "Home & Kitchen    110328.08\n",
      "Sports            108518.79\n",
      "Toys              107289.69\n",
      "Beauty            104215.10\n",
      "Electronics       100462.23\n",
      "Name: Final_Price(Rs.), dtype: float64\n"
     ]
    }
   ],
   "source": [
    "sales_by_category = data.groupby('Category')['Final_Price(Rs.)'].sum()\n",
    "\n",
    "sales_by_category = sales_by_category.sort_values (ascending=False)\n",
    "print(sales_by_category)"
   ]
  },
  {
   "cell_type": "markdown",
   "id": "16c88f59",
   "metadata": {},
   "source": [
    "# Top 5 Products by Sales:"
   ]
  },
  {
   "cell_type": "code",
   "execution_count": 14,
   "id": "e0f5ed30",
   "metadata": {},
   "outputs": [
    {
     "name": "stdout",
     "output_type": "stream",
     "text": [
      "Category\n",
      "Clothing          115314.84\n",
      "Books             111149.35\n",
      "Home & Kitchen    110328.08\n",
      "Sports            108518.79\n",
      "Toys              107289.69\n",
      "Name: Final_Price(Rs.), dtype: float64\n"
     ]
    }
   ],
   "source": [
    "sales_by_product = data.groupby('Category')['Final_Price(Rs.)'].sum()\n",
    "\n",
    "sales_by_product = sales_by_product.sort_values (ascending=False).head(5)\n",
    "print(sales_by_product)"
   ]
  },
  {
   "cell_type": "markdown",
   "id": "43da1d93",
   "metadata": {},
   "source": [
    "# Analyze how the discount affects the final price."
   ]
  },
  {
   "cell_type": "code",
   "execution_count": 15,
   "id": "ca2f612c",
   "metadata": {},
   "outputs": [
    {
     "name": "stdout",
     "output_type": "stream",
     "text": [
      "                Discount (%)  Final_Price(Rs.)\n",
      "Category                                      \n",
      "Beauty             18.475248        206.366535\n",
      "Books              19.035581        208.144850\n",
      "Clothing           17.919021        217.165424\n",
      "Electronics        19.267068        201.731386\n",
      "Home & Kitchen     19.608379        200.961894\n",
      "Sports             19.326923        208.689981\n",
      "Toys               18.126195        205.142811\n"
     ]
    }
   ],
   "source": [
    "avg_discount_price = data.groupby('Category').agg({'Discount (%)': 'mean', 'Final_Price(Rs.)' : 'mean'})\n",
    "print(avg_discount_price)"
   ]
  },
  {
   "cell_type": "markdown",
   "id": "34e98df9",
   "metadata": {},
   "source": [
    "# Understand the preferred payment methods used by customers"
   ]
  },
  {
   "cell_type": "code",
   "execution_count": 16,
   "id": "58f9781b",
   "metadata": {},
   "outputs": [
    {
     "name": "stdout",
     "output_type": "stream",
     "text": [
      "Credit Card         760\n",
      "UPI                 757\n",
      "Debit Card          731\n",
      "Net Banking         716\n",
      "Cash on Delivery    696\n",
      "Name: Payment_Method, dtype: int64\n"
     ]
    }
   ],
   "source": [
    "payment_method_distribution = data['Payment_Method'].value_counts()\n",
    "\n",
    "print(payment_method_distribution)\n"
   ]
  },
  {
   "cell_type": "markdown",
   "id": "26f1170d",
   "metadata": {},
   "source": [
    "# Analyze how sales trend over time (e.g., by month)."
   ]
  },
  {
   "cell_type": "code",
   "execution_count": 20,
   "id": "6b036c5b",
   "metadata": {
    "scrolled": true
   },
   "outputs": [
    {
     "name": "stdout",
     "output_type": "stream",
     "text": [
      "    User_ID  Product_ID  Category  Price (Rs.)  Discount (%)  \\\n",
      "0  337c166f  f414122f-e    Sports        36.53            15   \n",
      "1  d38a19bf  fde50f9c-5  Clothing       232.79            20   \n",
      "2  d7f5f0b0  0d96fc90-3    Sports       317.02            25   \n",
      "3  395d4994  964fc44b-d      Toys       173.19            25   \n",
      "4  a83c145c  d70e2fc6-e    Beauty       244.80            20   \n",
      "\n",
      "   Final_Price(Rs.) Payment_Method Purchase_Date Purchase_Data YearMonth  \n",
      "0             31.05    Net Banking    2024-12-11    2024-12-11   2024-12  \n",
      "1            186.23    Net Banking    2024-09-02    2024-09-02   2024-09  \n",
      "2            237.76    Credit Card    2024-01-09    2024-01-09   2024-01  \n",
      "3            129.89            UPI    2024-01-04    2024-01-04   2024-01  \n",
      "4            195.84    Net Banking    2024-09-27    2024-09-27   2024-09  \n"
     ]
    }
   ],
   "source": [
    "data['YearMonth'] = data['Purchase_Date'].dt.to_period('M')\n",
    "print(data.head())\n",
    "monthly_sales = data.groupby('YearMonth')['Final_Price(Rs.)'].sum()"
   ]
  },
  {
   "cell_type": "code",
   "execution_count": 26,
   "id": "efaf90a5",
   "metadata": {
    "scrolled": true
   },
   "outputs": [
    {
     "data": {
      "text/plain": [
       "<function matplotlib.pyplot.show(close=None, block=None)>"
      ]
     },
     "execution_count": 26,
     "metadata": {},
     "output_type": "execute_result"
    },
    {
     "data": {
      "image/png": "[encoded data removed]",
      "text/plain": [
       "<Figure size 720x360 with 1 Axes>"
      ]
     },
     "metadata": {
      "needs_background": "light"
     },
     "output_type": "display_data"
    }
   ],
   "source": [
    "import matplotlib.pyplot as plt\n",
    "\n",
    "monthly_sales.plot(kind='line', figsize=(10,5), color='green')\n",
    "plt.title('monthly sales Trend')\n",
    "plt.xlabel('Month')\n",
    "plt.ylabel('Total sales (Rs.)')\n",
    "plt.show"
   ]
  },
  {
   "cell_type": "markdown",
   "id": "f5a55df3",
   "metadata": {},
   "source": [
    "# Visualize Data\n",
    "### Bar Chart: Revenue by Category"
   ]
  },
  {
   "cell_type": "code",
   "execution_count": 28,
   "id": "fdbb4e16",
   "metadata": {},
   "outputs": [
    {
     "data": {
      "image/png": "[encoded data removed]",
      "text/plain": [
       "<Figure size 576x360 with 1 Axes>"
      ]
     },
     "metadata": {
      "needs_background": "light"
     },
     "output_type": "display_data"
    }
   ],
   "source": [
    "sales_by_category.plot(kind='bar', figsize=(8, 5), color='skyblue')\n",
    "plt.title('Revenue by Category')\n",
    "plt.xlabel('Category')\n",
    "plt.ylabel('Total Revenue (Rs.)')\n",
    "plt.xticks(rotation=45)\n",
    "plt.show()\n"
   ]
  },
  {
   "cell_type": "markdown",
   "id": "11f4dfff",
   "metadata": {},
   "source": [
    "# Histogram: Discount Distribution"
   ]
  },
  {
   "cell_type": "code",
   "execution_count": 34,
   "id": "df6a5212",
   "metadata": {
    "scrolled": true
   },
   "outputs": [
    {
     "data": {
      "image/png": "[encoded data removed]",
      "text/plain": [
       "<Figure size 720x432 with 1 Axes>"
      ]
     },
     "metadata": {
      "needs_background": "light"
     },
     "output_type": "display_data"
    }
   ],
   "source": [
    "avg_discount_per_product = data.groupby('Category')['Discount (%)'].mean().sort_values(ascending=False)\n",
    "\n",
    "# Plot the top discounted products\n",
    "avg_discount_per_product.head(20).plot(kind='bar', figsize=(10, 6), color='orange', edgecolor='black')\n",
    "plt.title('Top Discounted Products')\n",
    "plt.xlabel('Product ID')\n",
    "plt.ylabel('Average Discount (%)')\n",
    "plt.xticks(rotation=90)\n",
    "plt.show()"
   ]
  },
  {
   "cell_type": "code",
   "execution_count": 37,
   "id": "251292d1",
   "metadata": {},
   "outputs": [
    {
     "name": "stdout",
     "output_type": "stream",
     "text": [
      "Data has been exported successfully to 'cleaned_customer_data.csv'.\n"
     ]
    }
   ],
   "source": [
    "# Export the cleaned data to a new CSV file\n",
    "data.to_csv('cleaned_customer_data.csv', index=False)\n",
    "\n",
    "# Confirm that the file has been saved\n",
    "print(\"Data has been exported successfully to 'cleaned_customer_data.csv'.\")\n"
   ]
  },
  {
   "cell_type": "markdown",
   "id": "19144bfe",
   "metadata": {},
   "source": [
    "# we can use Python libraries like Plotly and Dash to create interactive dashboards directly in your notebook or as a web app. Here's how you can do it step by step:"
   ]
  },
  {
   "cell_type": "markdown",
   "id": "7697f5bc",
   "metadata": {},
   "source": [
    "# Install Required Libraries"
   ]
  },
  {
   "cell_type": "code",
   "execution_count": 35,
   "id": "a77a37ca",
   "metadata": {
    "collapsed": true
   },
   "outputs": [
    {
     "name": "stdout",
     "output_type": "stream",
     "text": [
      "Defaulting to user installation because normal site-packages is not writeable\n",
      "Requirement already satisfied: plotly in c:\\programdata\\anaconda3\\lib\\site-packages (5.6.0)\n",
      "Requirement already satisfied: dash in c:\\users\\sssd\\appdata\\roaming\\python\\python39\\site-packages (2.18.2)\n",
      "Requirement already satisfied: pandas in c:\\users\\sssd\\appdata\\roaming\\python\\python39\\site-packages (1.3.3)\n",
      "Requirement already satisfied: tenacity>=6.2.0 in c:\\programdata\\anaconda3\\lib\\site-packages (from plotly) (8.0.1)\n",
      "Requirement already satisfied: six in c:\\programdata\\anaconda3\\lib\\site-packages (from plotly) (1.16.0)\n",
      "Requirement already satisfied: Flask<3.1,>=1.0.4 in c:\\programdata\\anaconda3\\lib\\site-packages (from dash) (1.1.2)\n",
      "Requirement already satisfied: Werkzeug<3.1 in c:\\programdata\\anaconda3\\lib\\site-packages (from dash) (2.0.3)\n",
      "Requirement already satisfied: dash-html-components==2.0.0 in c:\\users\\sssd\\appdata\\roaming\\python\\python39\\site-packages (from dash) (2.0.0)\n",
      "Requirement already satisfied: dash-core-components==2.0.0 in c:\\users\\sssd\\appdata\\roaming\\python\\python39\\site-packages (from dash) (2.0.0)\n",
      "Requirement already satisfied: dash-table==5.0.0 in c:\\users\\sssd\\appdata\\roaming\\python\\python39\\site-packages (from dash) (5.0.0)\n",
      "Requirement already satisfied: importlib-metadata in c:\\programdata\\anaconda3\\lib\\site-packages (from dash) (4.11.3)\n",
      "Requirement already satisfied: typing-extensions>=4.1.1 in c:\\users\\sssd\\appdata\\roaming\\python\\python39\\site-packages (from dash) (4.12.2)\n",
      "Requirement already satisfied: requests in c:\\users\\sssd\\appdata\\roaming\\python\\python39\\site-packages (from dash) (2.32.3)\n",
      "Requirement already satisfied: retrying in c:\\users\\sssd\\appdata\\roaming\\python\\python39\\site-packages (from dash) (1.3.4)\n",
      "Requirement already satisfied: nest-asyncio in c:\\programdata\\anaconda3\\lib\\site-packages (from dash) (1.5.5)\n",
      "Requirement already satisfied: setuptools in c:\\programdata\\anaconda3\\lib\\site-packages (from dash) (61.2.0)\n",
      "Requirement already satisfied: numpy>=1.17.3 in c:\\programdata\\anaconda3\\lib\\site-packages (from pandas) (1.21.5)\n",
      "Requirement already satisfied: python-dateutil>=2.7.3 in c:\\programdata\\anaconda3\\lib\\site-packages (from pandas) (2.8.2)\n",
      "Requirement already satisfied: pytz>=2017.3 in c:\\programdata\\anaconda3\\lib\\site-packages (from pandas) (2021.3)\n",
      "Requirement already satisfied: Jinja2>=2.10.1 in c:\\programdata\\anaconda3\\lib\\site-packages (from Flask<3.1,>=1.0.4->dash) (2.11.3)\n",
      "Requirement already satisfied: itsdangerous>=0.24 in c:\\programdata\\anaconda3\\lib\\site-packages (from Flask<3.1,>=1.0.4->dash) (2.0.1)\n",
      "Requirement already satisfied: click>=5.1 in c:\\programdata\\anaconda3\\lib\\site-packages (from Flask<3.1,>=1.0.4->dash) (8.0.4)\n",
      "Requirement already satisfied: zipp>=0.5 in c:\\programdata\\anaconda3\\lib\\site-packages (from importlib-metadata->dash) (3.7.0)\n",
      "Requirement already satisfied: charset-normalizer<4,>=2 in c:\\programdata\\anaconda3\\lib\\site-packages (from requests->dash) (2.0.4)\n",
      "Requirement already satisfied: idna<4,>=2.5 in c:\\programdata\\anaconda3\\lib\\site-packages (from requests->dash) (3.3)\n",
      "Requirement already satisfied: urllib3<3,>=1.21.1 in c:\\users\\sssd\\appdata\\roaming\\python\\python39\\site-packages (from requests->dash) (2.2.3)\n",
      "Requirement already satisfied: certifi>=2017.4.17 in c:\\users\\sssd\\appdata\\roaming\\python\\python39\\site-packages (from requests->dash) (2022.12.7)\n",
      "Requirement already satisfied: colorama in c:\\programdata\\anaconda3\\lib\\site-packages (from click>=5.1->Flask<3.1,>=1.0.4->dash) (0.4.4)\n",
      "Requirement already satisfied: MarkupSafe>=0.23 in c:\\programdata\\anaconda3\\lib\\site-packages (from Jinja2>=2.10.1->Flask<3.1,>=1.0.4->dash) (2.0.1)\n",
      "Note: you may need to restart the kernel to use updated packages.\n"
     ]
    },
    {
     "name": "stderr",
     "output_type": "stream",
     "text": [
      "\n",
      "[notice] A new release of pip is available: 24.0 -> 24.3.1\n",
      "[notice] To update, run: python.exe -m pip install --upgrade pip\n"
     ]
    }
   ],
   "source": [
    "pip install plotly dash pandas\n"
   ]
  },
  {
   "cell_type": "markdown",
   "id": "2775cbfc",
   "metadata": {},
   "source": [
    "# Set Up the Basic Dashboard with Dash\n",
    "### Here's an example of how you can create a simple interactive dashboard using Dash:"
   ]
  },
  {
   "cell_type": "markdown",
   "id": "b076b9a1",
   "metadata": {},
   "source": [
    "# Running the Dashboard\n",
    "After running the script, your dashboard will be available at http://127.0.0.1:8050/ (or a similar URL) in your web browser.\n",
    "You can interact with the charts by hovering, zooming, and even filtering based on your data."
   ]
  },
  {
   "cell_type": "code",
   "execution_count": 38,
   "id": "c3056a21",
   "metadata": {},
   "outputs": [
    {
     "data": {
      "text/html": [
       "\n",
       "        <iframe\n",
       "            width=\"100%\"\n",
       "            height=\"650\"\n",
       "            src=\"http://127.0.0.1:8050/\"\n",
       "            frameborder=\"0\"\n",
       "            allowfullscreen\n",
       "            \n",
       "        ></iframe>\n",
       "        "
      ],
      "text/plain": [
       "<IPython.lib.display.IFrame at 0x1443a1f0>"
      ]
     },
     "metadata": {},
     "output_type": "display_data"
    }
   ],
   "source": [
    "import dash\n",
    "import dash_core_components as dcc\n",
    "import dash_html_components as html\n",
    "import plotly.express as px\n",
    "import pandas as pd\n",
    "\n",
    "# Load your cleaned dataset\n",
    "data = pd.read_csv('cleaned_customer_data.csv')\n",
    "\n",
    "# Initialize Dash app\n",
    "app = dash.Dash(__name__)\n",
    "\n",
    "# Create a plotly chart (e.g., total sales by category)\n",
    "sales_by_category = data.groupby('Category')['Final_Price(Rs.)'].sum().reset_index()\n",
    "fig_category = px.bar(sales_by_category, x='Category', y='Final_Price(Rs.)', title='Sales by Category')\n",
    "\n",
    "# Layout of the dashboard\n",
    "app.layout = html.Div([\n",
    "    html.H1(\"Customer Transaction Dashboard\"),\n",
    "    \n",
    "    # Chart 1: Sales by Category\n",
    "    html.Div([\n",
    "        html.H3(\"Sales by Category\"),\n",
    "        dcc.Graph(figure=fig_category)\n",
    "    ]),\n",
    "\n",
    "    # Chart 2: Discount Distribution (Histogram)\n",
    "    html.Div([\n",
    "        html.H3(\"Discount Distribution\"),\n",
    "        dcc.Graph(\n",
    "            figure=px.histogram(data, x='Discount (%)', nbins=20, title='Discount Distribution')\n",
    "        )\n",
    "    ]),\n",
    "\n",
    "    # Chart 3: Monthly Sales Trend\n",
    "    html.Div([\n",
    "        html.H3(\"Monthly Sales Trend\"),\n",
    "        dcc.Graph(\n",
    "            figure=px.line(data, x='Purchase_Date', y='Final_Price(Rs.)', title='Monthly Sales Trend')\n",
    "        )\n",
    "    ])\n",
    "])\n",
    "\n",
    "# Run the app\n",
    "if __name__ == '__main__':\n",
    "    app.run_server(debug=True)\n"
   ]
  }
 ],
 "metadata": {
  "kernelspec": {
   "display_name": "Python 3 (ipykernel)",
   "language": "python",
   "name": "python3"
  },
  "language_info": {
   "codemirror_mode": {
    "name": "ipython",
    "version": 3
   },
   "file_extension": ".py",
   "mimetype": "text/x-python",
   "name": "python",
   "nbconvert_exporter": "python",
   "pygments_lexer": "ipython3",
   "version": "3.9.12"
  }
 },
 "nbformat": 4,
 "nbformat_minor": 5
}
